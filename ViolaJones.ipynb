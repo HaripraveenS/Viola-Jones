{
  "nbformat": 4,
  "nbformat_minor": 0,
  "metadata": {
    "colab": {
      "name": "ViolaJones.ipynb",
      "provenance": []
    },
    "kernelspec": {
      "name": "python3",
      "display_name": "Python 3"
    },
    "language_info": {
      "name": "python"
    }
  },
  "cells": [
    {
      "cell_type": "code",
      "metadata": {
        "id": "sDfYadlJ20NP"
      },
      "source": [
        "import os\n",
        "from PIL import Image\n",
        "import numpy as np\n",
        "import sys\n",
        "from collections import defaultdict\n",
        "import cv2\n",
        "import math\n",
        "\n",
        "FEATURE = ((1, 2), (2, 1), (1, 3), (3, 1), (2, 2))"
      ],
      "execution_count": null,
      "outputs": []
    },
    {
      "cell_type": "code",
      "metadata": {
        "id": "MDRpaO-726iZ"
      },
      "source": [
        "def calcIntegral(im):\n",
        "    ii = np.zeros((im.shape[0] + 1, im.shape[1] + 1))\n",
        "    for x in range(im.shape[1]):\n",
        "        for y in range(im.shape[0]):\n",
        "            pixel_val = im[y, x]\n",
        "            sumr[y, x] = sumr[y-1, x] + pixel_val\n",
        "            ii[y+1, x+1] = ii[y+1, x] + sumr[y, x]\n",
        "    \n",
        "    return ii\n",
        "    \n",
        "def get_sum(iimg, tl,height,width):\n",
        "    height = int(height)\n",
        "    width = int(width)\n",
        "    try:\n",
        "        sum = iimg[tl[1]][tl[0]] - iimg[tl[1] + height][tl[0]] - iimg[tl[1]][tl[0] + width] + iimg[tl[1] + height][tl[0] + width]\n",
        "    except:\n",
        "        print(tl)\n",
        "    return sum\n",
        "\n",
        "\n",
        "def get_feature_list1(img_width, img_height):\n",
        "    tot_list = []\n",
        "    max_w, max_h = 8, 8\n",
        "    for i in range(5):\n",
        "        f_cnt = 0\n",
        "        for w in range(FEATURE[i][0], max_w + 1, FEATURE[i][0]):\n",
        "            for h in range(FEATURE[i][1], max_h + 1, FEATURE[i][1]):\n",
        "                x = 0\n",
        "                while(x < img_width - w + 1):\n",
        "                    y = 0\n",
        "                    while(y < img_height - h + 1):\n",
        "                        a = RectangleRegion(FEATURE[i], (x, y), w, h, 1)\n",
        "                        b = RectangleRegion(FEATURE[i], (x, y), w, h, -1)\n",
        "                        tot_list.extend([a, b])\n",
        "                        y += 1\n",
        "                        f_cnt += 1  \n",
        "                    x += 1\n",
        "    print(len(tot_list))\n",
        "    return tot_list\n"
      ],
      "execution_count": null,
      "outputs": []
    },
    {
      "cell_type": "code",
      "metadata": {
        "id": "8gEGZcBA3BdR"
      },
      "source": [
        "class RectangleRegion(object):\n",
        "    def __init__(self, f_type, pos, width, height, parity):\n",
        "        self.alpha = 0.0\n",
        "        self.type = f_type\n",
        "        self.parity = parity\n",
        "        self.t_left = pos\n",
        "        self.width = width\n",
        "        self.height = height\n",
        "\n",
        "     \n",
        "    def get_score(self, iimg):\n",
        "        diff = 0\n",
        "        if self.type == (1, 2):\n",
        "            pos = get_sum(iimg, self.t_left, self.height / 2, self.width)\n",
        "            neg = get_sum(iimg, (self.t_left[0], int(self.t_left[1] + self.height / 2)),  self.height / 2, self.width)\n",
        "            diff = pos - neg\n",
        "\n",
        "        elif self.type == (2, 1):\n",
        "            pos = get_sum(iimg, self.t_left, self.height , int(self.width / 2))\n",
        "            neg = get_sum(iimg, (int(self.t_left[0] + self.width / 2), self.t_left[1]), self.height , int(self.width / 2))\n",
        "            diff = pos - neg\n",
        "\n",
        "        elif self.type == (1, 3):\n",
        "            pos = get_sum(iimg, self.t_left,  int(self.height / 3) , self.width) \n",
        "            pos += get_sum(iimg, (self.t_left[0], int(self.t_left[1] + 2 * self.height / 3)),  int(self.height / 3) , self.width)\n",
        "            neg = get_sum(iimg, (self.t_left[0], int(self.t_left[1] + self.height / 3)),  int(self.height / 3) , self.width)\n",
        "            diff = pos - neg \n",
        "\n",
        "        elif self.type == (3, 1):\n",
        "            pos = get_sum(iimg, self.t_left, self.height, int(self.width/3))\n",
        "            pos += get_sum(iimg, (int(self.t_left[0] + 2 * self.width / 3), self.t_left[1]), self.height, int(self.width/3))\n",
        "            neg = get_sum(iimg, (int(self.t_left[0] + self.width / 3), self.t_left[1]), self.height, int(self.width/3))\n",
        "            diff = pos - neg\n",
        "\n",
        "        elif self.type == (2, 2):\n",
        "            pos = get_sum(iimg, self.t_left, int(self.height / 2) , int(self.width / 2))\n",
        "            neg = get_sum(iimg, (int(self.t_left[0] + self.width / 2), self.t_left[1]), int(self.height / 2) , int(self.width / 2))\n",
        "            neg += get_sum(iimg, (self.t_left[0], int(self.t_left[1] + self.height / 2)), int(self.height / 2) , int(self.width / 2))\n",
        "            pos += get_sum(iimg, (int(self.t_left[0] + self.width / 2), int(self.t_left[1] + self.height / 2)), int(self.height / 2) , int(self.width / 2))\n",
        "            \n",
        "        return pos - neg\n",
        "        \n",
        "\n",
        "    def feature_classifier(self, im):\n",
        "        diff = self.get_score(im)\n",
        "        a = self.parity * diff\n",
        "        b = self.parity * 0\n",
        "        if a < b:\n",
        "            return 1\n",
        "        else:\n",
        "            return 0\n"
      ],
      "execution_count": null,
      "outputs": []
    },
    {
      "cell_type": "code",
      "metadata": {
        "id": "H_jCe3lA3BTf"
      },
      "source": [
        "def classifier(classifiers,image):\n",
        "    sum1 = 0.0\n",
        "    sum2 = 0.0\n",
        "    for feature in classifiers:\n",
        "        sum1 += feature.feature_classifier(image) * feature.alpha\n",
        "\n",
        "    for feature in classifiers:\n",
        "        sum2 += 0.5*feature.alpha\n",
        "    if sum1 >= sum2:\n",
        "        return 1\n",
        "    return 0\n",
        "\n",
        "\n",
        "\n",
        "def find_acc(classifiers, test_poses_integral,test_negs_integral, skip_img = None):\n",
        "    test_integral = test_poses_integral + test_negs_integral\n",
        "    accuracy, fp, fn, tn, tp = (0.0 for i in range(5))\n",
        "    idx = 0\n",
        "    pos_cnt = len(test_poses_integral)\n",
        "    neg_cnt = len(test_negs_integral)\n",
        "    for idx in range(pos_cnt):\n",
        "        guess = classifier(classifiers, test_poses_integral[idx])\n",
        "        if guess == 1:\n",
        "            tp += 1\n",
        "            accuracy += 1\n",
        "        if guess == 0:\n",
        "            fn += 1\n",
        "\n",
        "    for idx in range(neg_cnt):\n",
        "        guess = classifier(classifiers,test_negs_integral[idx])\n",
        "        if guess == 0:\n",
        "            tn += 1\n",
        "            accuracy += 1\n",
        "        if guess == 1:\n",
        "            fp += 1\n",
        "    return accuracy, fp, fn, tp, tn"
      ],
      "execution_count": null,
      "outputs": []
    },
    {
      "cell_type": "code",
      "metadata": {
        "id": "ONyAuWJz3M7z"
      },
      "source": [
        "def get_guessmatrix(img_integrals,features):\n",
        "    guess = {}\n",
        "    num_img = len(img_integrals)\n",
        "    num_features = len(features)\n",
        "    for i in range(num_img):\n",
        "        image = img_integrals[i]\n",
        "        for j in range(num_features):\n",
        "            guess[(i,j)] = features[j].feature_classifier(image)\n",
        "            \n",
        "    return guess\n",
        "\n"
      ],
      "execution_count": null,
      "outputs": []
    },
    {
      "cell_type": "code",
      "metadata": {
        "id": "ziaUjRCh3Qxd"
      },
      "source": [
        "class Adaboost():\n",
        "    def __init__(self,pos_integral, neg_integral, classi_num):\n",
        "        self.pos_integral = pos_integral \n",
        "        self.pos_img_num = len(pos_integral)\n",
        "        self.neg_img_num = len(neg_integral)\n",
        "        self.neg_integral = neg_integral \n",
        "        self.classi_num = classi_num \n",
        "        self.classifiers = []\n",
        "        self.img_integrals = pos_integral + self.neg_integral\n",
        "        ground_truth_temp = [1] * self.pos_img_num + [0] * self.neg_img_num\n",
        "        self.ground_truth = np.array(ground_truth_temp)\n",
        "        pos_weights_temp = [1.0 / 2.0 * self.pos_img_num] * self.pos_img_num\n",
        "        neg_weights_temp = [1.0 / 2.0 * self.neg_img_num] * self.neg_img_num\n",
        "        self.weights = np.array(pos_weights_temp + neg_weights_temp)\n",
        "        img_height, img_width = self.pos_integral[0].shape\n",
        "        self.features = get_feature_list1(img_height - 1, img_width - 1)        \n",
        "        self.guess = get_guessmatrix(self.img_integrals,self.features)\n",
        "        \n",
        "    def learn(self):\n",
        "        selected_idxes=set()\n",
        "        for t in range(self.classi_num):\n",
        "            self.weights /= np.sum(self.weights)\n",
        "            low_err = float('inf')\n",
        "            selected_feature = None\n",
        "            index = 0\n",
        "\n",
        "            for i in range(len(self.features)):\n",
        "                if i in selected_idxes:\n",
        "                    continue\n",
        "                feature = self.features[i]\n",
        "                err = 1e-8\n",
        "                for j in range(len(self.img_integrals)):\n",
        "                    delta = self.weights[j] * abs(self.guess[(j,i)] - self.ground_truth[j])\n",
        "                    err += delta\n",
        "                if err < low_err:\n",
        "                    low_err = err\n",
        "                    selected_feature = feature\n",
        "                    index = i\n",
        "            training_accuracy = 0.0\n",
        "            power = 0.0\n",
        "            for j in range(len(self.img_integrals)):\n",
        "                if self.guess[(j,index)] == self.ground_truth[j]:\n",
        "                    power = 0.0\n",
        "                    training_accuracy += 1\n",
        "                else:\n",
        "                    power = 1.0\n",
        "                self.weights[j] = self.weights[j] * (low_err / (1.0 - low_err)) ** power\n",
        "\n",
        "            selected_idxes.add(index)\n",
        "            # selected_feature.training_accuracy = training_accuracy / (len(self.img_integrals))\n",
        "            selected_feature.alpha = math.log((1.0 - low_err) / low_err)\n",
        "            self.classifiers.append(selected_feature)\n",
        "            #print('round: %d' % t)\n",
        "        return self.classifiers\n"
      ],
      "execution_count": null,
      "outputs": []
    },
    {
      "cell_type": "code",
      "metadata": {
        "colab": {
          "base_uri": "https://localhost:8080/"
        },
        "id": "LQj0FmEK3TQ3",
        "outputId": "bc5cd5b7-2a39-4cb0-b1b6-47e2c053b94c"
      },
      "source": [
        "pos_training_path = '/content/drive/MyDrive/dataset/trainset/faces'\n",
        "neg_training_path = '/content/drive/MyDrive/dataset/trainset/non-faces'\n",
        "pos_testing_path = '/content/drive/MyDrive/dataset/testset/faces'\n",
        "neg_testing_path = '/content/drive/MyDrive/dataset/testset/non-faces'\n",
        "\n",
        "allpaths = [pos_training_path,neg_training_path,pos_testing_path,neg_testing_path]\n",
        "allimages = {}\n",
        "for path in allpaths:\n",
        "    images = []\n",
        "    for im_name in os.listdir(path):\n",
        "        if im_name.lower().endswith('.png'):\n",
        "            im = cv2.cvtColor(cv2.imread(os.path.join(path,im_name)) , cv2.COLOR_BGR2GRAY)\n",
        "            im = np.asarray(im,dtype=np.float64)\n",
        "            im = im/np.max(im)\n",
        "            images.append(calcIntegral(im))\n",
        "    allimages[path] = images\n",
        "\n",
        "train_poses_integral = allimages[pos_training_path]\n",
        "train_negs_integral = allimages[neg_training_path]\n",
        "test_poses_integral = allimages[pos_testing_path]\n",
        "test_negs_integral = allimages[neg_testing_path]\n",
        "\n",
        "classi_num = 10\n",
        "adabo = Adaboost(train_poses_integral, train_negs_integral, classi_num)\n",
        "classifiers = adabo.learn()\n",
        "accuracy, fp, fn, tp, tn= find_acc(classifiers, test_poses_integral, test_negs_integral)\n",
        "\n",
        "print('Total accuracy: %f (%d/%d)' % (accuracy / len(test_poses_integral + test_negs_integral), accuracy,\n",
        "                                        len(test_poses_integral + test_negs_integral)))\n",
        "print('False Positive: %f (%d/%d)' % (fp / len(test_negs_integral), fp, len(test_negs_integral)))\n",
        "print('False Negative: %f (%d/%d)\\n' % (fn / len(test_poses_integral), fn, len(test_poses_integral)))"
      ],
      "execution_count": null,
      "outputs": [
        {
          "output_type": "stream",
          "text": [
            "52336\n",
            "Total accuracy: 0.642857 (18/28)\n",
            "False Positive: 0.428571 (6/14)\n",
            "False Negative: 0.285714 (4/14)\n",
            "\n"
          ],
          "name": "stdout"
        }
      ]
    },
    {
      "cell_type": "code",
      "metadata": {
        "id": "GBTJ_PQR3jyE"
      },
      "source": [
        ""
      ],
      "execution_count": null,
      "outputs": []
    }
  ]
}